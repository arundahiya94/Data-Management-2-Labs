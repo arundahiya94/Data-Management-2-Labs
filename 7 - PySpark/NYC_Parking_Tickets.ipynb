{
  "nbformat": 4,
  "nbformat_minor": 0,
  "metadata": {
    "colab": {
      "provenance": [],
      "authorship_tag": "ABX9TyPjm9TG0k1N4RMpzogz/lIw",
      "include_colab_link": true
    },
    "kernelspec": {
      "name": "python3",
      "display_name": "Python 3"
    },
    "language_info": {
      "name": "python"
    }
  },
  "cells": [
    {
      "cell_type": "markdown",
      "metadata": {
        "id": "view-in-github",
        "colab_type": "text"
      },
      "source": [
        "<a href=\"https://colab.research.google.com/github/binhvd/Data-Management-2-Labs/blob/main/7%20-%20PySpark/NYC_Parking_Tickets.ipynb\" target=\"_parent\"><img src=\"https://colab.research.google.com/assets/colab-badge.svg\" alt=\"Open In Colab\"/></a>"
      ]
    },
    {
      "cell_type": "markdown",
      "metadata": {
        "id": "QZMQsAItvF9I"
      },
      "source": [
        "## Import Modules"
      ]
    },
    {
      "cell_type": "code",
      "metadata": {
        "id": "z5elOd3_urwh",
        "outputId": "e0c91ae9-e70d-4032-947a-2258798b8d8f",
        "colab": {
          "base_uri": "https://localhost:8080/"
        }
      },
      "source": [
        "!pip install pyspark\n",
        "\n",
        "from pyspark.sql import functions as f\n",
        "import pandas as pd\n",
        "import seaborn as sns\n",
        "import matplotlib.pyplot as plt\n",
        "%matplotlib inline"
      ],
      "execution_count": null,
      "outputs": [
        {
          "output_type": "stream",
          "name": "stdout",
          "text": [
            "Looking in indexes: https://pypi.org/simple, https://us-python.pkg.dev/colab-wheels/public/simple/\n",
            "Requirement already satisfied: pyspark in /usr/local/lib/python3.10/dist-packages (3.4.0)\n",
            "Requirement already satisfied: py4j==0.10.9.7 in /usr/local/lib/python3.10/dist-packages (from pyspark) (0.10.9.7)\n"
          ]
        }
      ]
    },
    {
      "cell_type": "markdown",
      "source": [
        "## Download files from Google Cloud Storage"
      ],
      "metadata": {
        "id": "QJryoF1iHsIe"
      }
    },
    {
      "cell_type": "code",
      "source": [
        "!wget https://storage.googleapis.com/adsa-data/new-york/Parking_Violations_Issued_-_Fiscal_Year_2015.csv\n",
        "!wget https://storage.googleapis.com/adsa-data/new-york/Parking_Violations_Issued_-_Fiscal_Year_2016.csv\n",
        "!wget https://storage.googleapis.com/adsa-data/new-york/Parking_Violations_Issued_-_Fiscal_Year_2017.csv"
      ],
      "metadata": {
        "id": "9IW2GwjcHVUM",
        "outputId": "b6159ad4-4c31-4f17-bfd5-4c6e261f789a",
        "colab": {
          "base_uri": "https://localhost:8080/"
        }
      },
      "execution_count": null,
      "outputs": [
        {
          "output_type": "stream",
          "name": "stdout",
          "text": [
            "--2023-05-02 14:53:59--  https://storage.googleapis.com/srh-dataset/new-york/Parking_Violations_Issued_-_Fiscal_Year_2015.csv\n",
            "Resolving storage.googleapis.com (storage.googleapis.com)... 74.125.141.128, 173.194.210.128, 173.194.216.128, ...\n",
            "Connecting to storage.googleapis.com (storage.googleapis.com)|74.125.141.128|:443... connected.\n",
            "HTTP request sent, awaiting response... 200 OK\n",
            "Length: 812797952 (775M) [text/csv]\n",
            "Saving to: ‘Parking_Violations_Issued_-_Fiscal_Year_2015.csv’\n",
            "\n",
            "Parking_Violations_ 100%[===================>] 775.14M  33.8MB/s    in 23s     \n",
            "\n",
            "2023-05-02 14:54:22 (33.8 MB/s) - ‘Parking_Violations_Issued_-_Fiscal_Year_2015.csv’ saved [812797952/812797952]\n",
            "\n"
          ]
        }
      ]
    },
    {
      "cell_type": "markdown",
      "source": [
        "## Try to import records to DataFrames"
      ],
      "metadata": {
        "id": "pN_ULrjRHxU5"
      }
    },
    {
      "cell_type": "code",
      "source": [
        "import glob\n",
        "import pandas as pd   \n",
        "import time\n",
        "\n",
        "data = []\n",
        "start_time = time.time()\n",
        "\n",
        "for path in glob.glob(\"/content/*.csv\"):\n",
        "  df = pd.read_csv(path)\n",
        "  data.append(df)\n",
        "\n",
        "df = pd.concat(data)\n",
        "print(\"--- %s seconds ---\" % (time.time() - start_time))"
      ],
      "metadata": {
        "id": "DXiKUQFO9Xad"
      },
      "execution_count": null,
      "outputs": []
    },
    {
      "cell_type": "markdown",
      "source": [
        "## Connect to Cluster"
      ],
      "metadata": {
        "id": "rPhVQLq9H4FT"
      }
    },
    {
      "cell_type": "code",
      "source": [
        "from pyspark.sql import SparkSession\n",
        "\n",
        "spark = SparkSession.builder\\\n",
        "        .master(\"yarn\")\\\n",
        "        .appName('NYC-Parking-Tickets')\\\n",
        "        .getOrCreate()"
      ],
      "metadata": {
        "id": "cAk857YsFHGn"
      },
      "execution_count": null,
      "outputs": []
    },
    {
      "cell_type": "markdown",
      "source": [
        "## Read CSV files to DataFrame\n"
      ],
      "metadata": {
        "id": "FBTAvzNWH-ij"
      }
    },
    {
      "cell_type": "code",
      "source": [
        "data = spark.read.csv(\n",
        "    'gs://adsa-data/new-york/*.csv',\n",
        "    sep = ',',\n",
        "    header = True,\n",
        ")\n",
        "\n",
        "data.printSchema()"
      ],
      "metadata": {
        "id": "1kdmN0ScHCZZ",
        "outputId": "b00f34a7-77f6-4865-e02b-18dd91d0b8b8",
        "colab": {
          "base_uri": "https://localhost:8080/"
        }
      },
      "execution_count": null,
      "outputs": [
        {
          "output_type": "stream",
          "name": "stdout",
          "text": [
            "root\n",
            " |-- Summons Number: string (nullable = true)\n",
            " |-- Plate ID: string (nullable = true)\n",
            " |-- Registration State: string (nullable = true)\n",
            " |-- Plate Type: string (nullable = true)\n",
            " |-- Issue Date: string (nullable = true)\n",
            " |-- Violation Code: string (nullable = true)\n",
            " |-- Vehicle Body Type: string (nullable = true)\n",
            " |-- Vehicle Make: string (nullable = true)\n",
            " |-- Issuing Agency: string (nullable = true)\n",
            " |-- Street Code1: string (nullable = true)\n",
            " |-- Street Code2: string (nullable = true)\n",
            " |-- Street Code3: string (nullable = true)\n",
            " |-- Vehicle Expiration Date: string (nullable = true)\n",
            " |-- Violation Location: string (nullable = true)\n",
            " |-- Violation Precinct: string (nullable = true)\n",
            " |-- Issuer Precinct: string (nullable = true)\n",
            " |-- Issuer Code: string (nullable = true)\n",
            " |-- Issuer Command: string (nullable = true)\n",
            " |-- Issuer Squad: string (nullable = true)\n",
            " |-- Violation Time: string (nullable = true)\n",
            " |-- Time First Observed: string (nullable = true)\n",
            " |-- Violation County: string (nullable = true)\n",
            " |-- Violation In Front Of Or Opposite: string (nullable = true)\n",
            " |-- House Number: string (nullable = true)\n",
            " |-- Street Name: string (nullable = true)\n",
            " |-- Intersecting Street: string (nullable = true)\n",
            " |-- Date First Observed: string (nullable = true)\n",
            " |-- Law Section: string (nullable = true)\n",
            " |-- Sub Division: string (nullable = true)\n",
            " |-- Violation Legal Code: string (nullable = true)\n",
            " |-- Days Parking In Effect    : string (nullable = true)\n",
            " |-- From Hours In Effect: string (nullable = true)\n",
            " |-- To Hours In Effect: string (nullable = true)\n",
            " |-- Vehicle Color: string (nullable = true)\n",
            " |-- Unregistered Vehicle?: string (nullable = true)\n",
            " |-- Vehicle Year: string (nullable = true)\n",
            " |-- Meter Number: string (nullable = true)\n",
            " |-- Feet From Curb: string (nullable = true)\n",
            " |-- Violation Post Code: string (nullable = true)\n",
            " |-- Violation Description: string (nullable = true)\n",
            " |-- No Standing or Stopping Violation: string (nullable = true)\n",
            " |-- Hydrant Violation: string (nullable = true)\n",
            " |-- Double Parking Violation: string (nullable = true)\n",
            " |-- Latitude: string (nullable = true)\n",
            " |-- Longitude: string (nullable = true)\n",
            " |-- Community Board: string (nullable = true)\n",
            " |-- Community Council : string (nullable = true)\n",
            " |-- Census Tract: string (nullable = true)\n",
            " |-- BIN: string (nullable = true)\n",
            " |-- BBL: string (nullable = true)\n",
            " |-- NTA: string (nullable = true)\n",
            "\n"
          ]
        }
      ]
    },
    {
      "cell_type": "markdown",
      "source": [
        "## Inspect the data"
      ],
      "metadata": {
        "id": "idxo21rE_F6Y"
      }
    },
    {
      "cell_type": "code",
      "source": [
        "# Display 5 entries\n"
      ],
      "metadata": {
        "id": "346Sp7Ac_H2G",
        "outputId": "5e7a706a-8f32-4462-caa3-50d86ff43552",
        "colab": {
          "base_uri": "https://localhost:8080/"
        }
      },
      "execution_count": null,
      "outputs": [
        {
          "output_type": "stream",
          "name": "stdout",
          "text": [
            "+--------------+--------+------------------+----------+----------+--------------+-----------------+------------+--------------+------------+------------+------------+-----------------------+------------------+------------------+---------------+-----------+--------------+------------+--------------+-------------------+----------------+---------------------------------+------------+-----------+-------------------+--------------------+-----------+------------+--------------------+--------------------------+--------------------+------------------+-------------+---------------------+------------+------------+--------------+-------------------+---------------------+---------------------------------+-----------------+------------------------+--------+---------+---------------+------------------+------------+----+----+----+----------+\n",
            "|Summons Number|Plate ID|Registration State|Plate Type|Issue Date|Violation Code|Vehicle Body Type|Vehicle Make|Issuing Agency|Street Code1|Street Code2|Street Code3|Vehicle Expiration Date|Violation Location|Violation Precinct|Issuer Precinct|Issuer Code|Issuer Command|Issuer Squad|Violation Time|Time First Observed|Violation County|Violation In Front Of Or Opposite|House Number|Street Name|Intersecting Street| Date First Observed|Law Section|Sub Division|Violation Legal Code|Days Parking In Effect    |From Hours In Effect|To Hours In Effect|Vehicle Color|Unregistered Vehicle?|Vehicle Year|Meter Number|Feet From Curb|Violation Post Code|Violation Description|No Standing or Stopping Violation|Hydrant Violation|Double Parking Violation|Latitude|Longitude|Community Board|Community Council |Census Tract| BIN| BBL| NTA|Issue_Date|\n",
            "+--------------+--------+------------------+----------+----------+--------------+-----------------+------------+--------------+------------+------------+------------+-----------------------+------------------+------------------+---------------+-----------+--------------+------------+--------------+-------------------+----------------+---------------------------------+------------+-----------+-------------------+--------------------+-----------+------------+--------------------+--------------------------+--------------------+------------------+-------------+---------------------+------------+------------+--------------+-------------------+---------------------+---------------------------------+-----------------+------------------------+--------+---------+---------------+------------------+------------+----+----+----+----------+\n",
            "|    8002531292| EPC5238|                NY|       PAS|10/01/2014|            21|             SUBN|       CHEVR|             T|       20390|       29890|       31490|   01/01/20150111 12...|              0007|                 7|              7|     345454|          T800|          A2|         0011A|               null|              NY|                                F|         133|   Essex St|               null|01/05/0001 12:00:...|        408|          d1|                null|                     Y Y Y|               1200A|             0300A|           BL|                 null|        2005|        null|             0|               A 77| 21-No Parking (st...|                             null|             null|                    null|    null|     null|           null|              null|        null|null|null|null|2014-10-01|\n",
            "|    8015318440|  5298MD|                NY|       COM|03/06/2015|            14|              VAN|       FRUEH|             T|       27790|       19550|       19570|   01/01/88888888 12...|              0025|                25|             25|     333386|          T103|           B|         0942A|               null|              NY|                                F|        1916|   Park Ave|               null|01/05/0001 12:00:...|        408|           c|                null|                     YYYYY|               0700A|             1000A|        BROWN|                 null|           0|        null|             0|                CC3|       14-No Standing|                             null|             null|                    null|    null|     null|           null|              null|        null|null|null|null|2015-03-06|\n",
            "|    7611181981| FYW2775|                NY|       PAS|07/28/2014|            46|             SUBN|       SUBAR|             T|        8130|        5430|        5580|   01/01/20160524 12...|              0072|                72|             72|     331845|          T302|           L|         1020A|               null|               K|                                F|         184|    31st St|               null|01/05/0001 12:00:...|        408|          f1|                null|                      null|                null|              null|        BLACK|                 null|        2010|        null|             0|               J 32| 46A-Double Parkin...|                             null|             null|                    null|    null|     null|           null|              null|        null|null|null|null|2014-07-28|\n",
            "|    7445908067| GWE1987|                NY|       PAS|04/13/2015|            19|             4DSD|       LEXUS|             T|       59990|       16540|       16790|   01/01/20170111 12...|               102|               102|            102|     355669|          T402|           D|         0318P|               null|               Q|                                F|      120-20|Queens Blvd|               null|01/05/0001 12:00:...|        408|          c3|                null|                     YYYYY|               0300P|             1000P|           GY|                 null|        2015|        null|             0|               01 4| 19-No Stand (bus ...|                             null|             null|                    null|    null|     null|           null|              null|        null|null|null|null|2015-04-13|\n",
            "|    7037692864|T671196C|                NY|       PAS|05/19/2015|            19|             4DSD|       CHRYS|             T|       36090|       10410|       24690|   01/01/88888888 12...|              0028|                28|             28|     341248|          T103|           X|         0410P|               null|              NY|                                F|          66| W 116th St|               null|01/05/0001 12:00:...|        408|          c3|                null|                   YYYYYYY|                null|              null|        BLACK|                 null|           0|        null|             0|               19 7| 19-No Stand (bus ...|                             null|             null|                    null|    null|     null|           null|              null|        null|null|null|null|2015-05-19|\n",
            "+--------------+--------+------------------+----------+----------+--------------+-----------------+------------+--------------+------------+------------+------------+-----------------------+------------------+------------------+---------------+-----------+--------------+------------+--------------+-------------------+----------------+---------------------------------+------------+-----------+-------------------+--------------------+-----------+------------+--------------------+--------------------------+--------------------+------------------+-------------+---------------------+------------+------------+--------------+-------------------+---------------------+---------------------------------+-----------------+------------------------+--------+---------+---------------+------------------+------------+----+----+----+----------+\n",
            "only showing top 5 rows\n",
            "\n"
          ]
        }
      ]
    },
    {
      "cell_type": "code",
      "source": [
        "# Count records\n"
      ],
      "metadata": {
        "id": "XYpX8X7xHKe7",
        "outputId": "dead352c-3b89-4d33-81b1-49686d463a31",
        "colab": {
          "base_uri": "https://localhost:8080/"
        }
      },
      "execution_count": null,
      "outputs": [
        {
          "output_type": "execute_result",
          "data": {
            "text/plain": [
              "3281458"
            ]
          },
          "metadata": {},
          "execution_count": 12
        }
      ]
    },
    {
      "cell_type": "code",
      "source": [
        "# count distinct records\n"
      ],
      "metadata": {
        "id": "pvob98nwBEDh",
        "outputId": "6b31566c-cda4-49b5-8189-d56ba10ff9a7",
        "colab": {
          "base_uri": "https://localhost:8080/"
        }
      },
      "execution_count": null,
      "outputs": [
        {
          "output_type": "execute_result",
          "data": {
            "text/plain": [
              "3058914"
            ]
          },
          "metadata": {},
          "execution_count": 14
        }
      ]
    },
    {
      "cell_type": "code",
      "source": [
        "# Convert Issue Date from String to Date Type and save the converted values to the new column Issue_Date\n",
        "\n",
        "\n",
        "data.printSchema()"
      ],
      "metadata": {
        "id": "Rr_YWAvFJChx",
        "outputId": "55c85ab7-35d4-44e8-925d-88af101ce2ed",
        "colab": {
          "base_uri": "https://localhost:8080/"
        }
      },
      "execution_count": null,
      "outputs": [
        {
          "output_type": "stream",
          "name": "stdout",
          "text": [
            "root\n",
            " |-- Summons Number: string (nullable = true)\n",
            " |-- Plate ID: string (nullable = true)\n",
            " |-- Registration State: string (nullable = true)\n",
            " |-- Plate Type: string (nullable = true)\n",
            " |-- Issue Date: string (nullable = true)\n",
            " |-- Violation Code: string (nullable = true)\n",
            " |-- Vehicle Body Type: string (nullable = true)\n",
            " |-- Vehicle Make: string (nullable = true)\n",
            " |-- Issuing Agency: string (nullable = true)\n",
            " |-- Street Code1: string (nullable = true)\n",
            " |-- Street Code2: string (nullable = true)\n",
            " |-- Street Code3: string (nullable = true)\n",
            " |-- Vehicle Expiration Date: string (nullable = true)\n",
            " |-- Violation Location: string (nullable = true)\n",
            " |-- Violation Precinct: string (nullable = true)\n",
            " |-- Issuer Precinct: string (nullable = true)\n",
            " |-- Issuer Code: string (nullable = true)\n",
            " |-- Issuer Command: string (nullable = true)\n",
            " |-- Issuer Squad: string (nullable = true)\n",
            " |-- Violation Time: string (nullable = true)\n",
            " |-- Time First Observed: string (nullable = true)\n",
            " |-- Violation County: string (nullable = true)\n",
            " |-- Violation In Front Of Or Opposite: string (nullable = true)\n",
            " |-- House Number: string (nullable = true)\n",
            " |-- Street Name: string (nullable = true)\n",
            " |-- Intersecting Street: string (nullable = true)\n",
            " |-- Date First Observed: string (nullable = true)\n",
            " |-- Law Section: string (nullable = true)\n",
            " |-- Sub Division: string (nullable = true)\n",
            " |-- Violation Legal Code: string (nullable = true)\n",
            " |-- Days Parking In Effect    : string (nullable = true)\n",
            " |-- From Hours In Effect: string (nullable = true)\n",
            " |-- To Hours In Effect: string (nullable = true)\n",
            " |-- Vehicle Color: string (nullable = true)\n",
            " |-- Unregistered Vehicle?: string (nullable = true)\n",
            " |-- Vehicle Year: string (nullable = true)\n",
            " |-- Meter Number: string (nullable = true)\n",
            " |-- Feet From Curb: string (nullable = true)\n",
            " |-- Violation Post Code: string (nullable = true)\n",
            " |-- Violation Description: string (nullable = true)\n",
            " |-- No Standing or Stopping Violation: string (nullable = true)\n",
            " |-- Hydrant Violation: string (nullable = true)\n",
            " |-- Double Parking Violation: string (nullable = true)\n",
            " |-- Latitude: string (nullable = true)\n",
            " |-- Longitude: string (nullable = true)\n",
            " |-- Community Board: string (nullable = true)\n",
            " |-- Community Council : string (nullable = true)\n",
            " |-- Census Tract: string (nullable = true)\n",
            " |-- BIN: string (nullable = true)\n",
            " |-- BBL: string (nullable = true)\n",
            " |-- NTA: string (nullable = true)\n",
            " |-- Issue_Date: date (nullable = true)\n",
            "\n"
          ]
        }
      ]
    },
    {
      "cell_type": "markdown",
      "source": [
        "## Dealing with Missing Values"
      ],
      "metadata": {
        "id": "27azdGqVBVfv"
      }
    },
    {
      "cell_type": "code",
      "source": [
        "# Drop duplications\n",
        "\n",
        "\n",
        "data.count()"
      ],
      "metadata": {
        "id": "XjQbxZW5BmOJ",
        "outputId": "a2e2d630-7070-4cff-d916-4731a57debc8",
        "colab": {
          "base_uri": "https://localhost:8080/"
        }
      },
      "execution_count": null,
      "outputs": [
        {
          "output_type": "execute_result",
          "data": {
            "text/plain": [
              "3058914"
            ]
          },
          "metadata": {},
          "execution_count": 15
        }
      ]
    },
    {
      "cell_type": "code",
      "source": [
        "# Count NOT-NULL entries for each column\n"
      ],
      "metadata": {
        "id": "78OKcg0lBW9B",
        "outputId": "49cecd6f-1abe-42b3-ca12-292d4baf9a11",
        "colab": {
          "base_uri": "https://localhost:8080/"
        }
      },
      "execution_count": null,
      "outputs": [
        {
          "output_type": "stream",
          "name": "stdout",
          "text": [
            "+--------------+--------+------------------+----------+----------+--------------+-----------------+------------+--------------+------------+------------+------------+-----------------------+------------------+------------------+---------------+-----------+--------------+------------+--------------+-------------------+----------------+---------------------------------+------------+-----------+-------------------+-------------------+-----------+------------+--------------------+--------------------------+--------------------+------------------+-------------+---------------------+------------+------------+--------------+-------------------+---------------------+---------------------------------+-----------------+------------------------+--------+---------+---------------+------------------+------------+---+---+---+\n",
            "|Summons Number|Plate ID|Registration State|Plate Type|Issue Date|Violation Code|Vehicle Body Type|Vehicle Make|Issuing Agency|Street Code1|Street Code2|Street Code3|Vehicle Expiration Date|Violation Location|Violation Precinct|Issuer Precinct|Issuer Code|Issuer Command|Issuer Squad|Violation Time|Time First Observed|Violation County|Violation In Front Of Or Opposite|House Number|Street Name|Intersecting Street|Date First Observed|Law Section|Sub Division|Violation Legal Code|Days Parking In Effect    |From Hours In Effect|To Hours In Effect|Vehicle Color|Unregistered Vehicle?|Vehicle Year|Meter Number|Feet From Curb|Violation Post Code|Violation Description|No Standing or Stopping Violation|Hydrant Violation|Double Parking Violation|Latitude|Longitude|Community Board|Community Council |Census Tract|BIN|BBL|NTA|\n",
            "+--------------+--------+------------------+----------+----------+--------------+-----------------+------------+--------------+------------+------------+------------+-----------------------+------------------+------------------+---------------+-----------+--------------+------------+--------------+-------------------+----------------+---------------------------------+------------+-----------+-------------------+-------------------+-----------+------------+--------------------+--------------------------+--------------------+------------------+-------------+---------------------+------------+------------+--------------+-------------------+---------------------+---------------------------------+-----------------+------------------------+--------+---------+---------------+------------------+------------+---+---+---+\n",
            "|       3281458| 3281457|           3281458|   3281458|   3281457|       3281457|          3273745|     3270311|       3281457|     3281457|     3281457|     3281457|                3281457|           3277670|           3281457|        3281457|    3281457|       3281457|     3281398|       3280944|             417341|         3269126|                          3257273|     3223390|    3279834|             494643|            3281457|    3281457|     3281344|                 503|                   2922576|             2122061|           2122061|      3273037|               332262|     3281457|      634792|       3281457|            2949665|              2949182|                                0|                0|                       0|       0|        0|              0|                 0|           0|  0|  0|  0|\n",
            "+--------------+--------+------------------+----------+----------+--------------+-----------------+------------+--------------+------------+------------+------------+-----------------------+------------------+------------------+---------------+-----------+--------------+------------+--------------+-------------------+----------------+---------------------------------+------------+-----------+-------------------+-------------------+-----------+------------+--------------------+--------------------------+--------------------+------------------+-------------+---------------------+------------+------------+--------------+-------------------+---------------------+---------------------------------+-----------------+------------------------+--------+---------+---------------+------------------+------------+---+---+---+\n",
            "\n"
          ]
        }
      ]
    },
    {
      "cell_type": "code",
      "source": [
        "# Drop columns that have no values\n",
        "\n",
        "\n",
        "data.show(5)"
      ],
      "metadata": {
        "id": "AvbCuAbxBeCD",
        "outputId": "de58084f-d6b1-483c-d708-4f0e566723f5",
        "colab": {
          "base_uri": "https://localhost:8080/"
        }
      },
      "execution_count": null,
      "outputs": [
        {
          "output_type": "stream",
          "name": "stdout",
          "text": [
            "+--------------+--------+------------------+----------+----------+--------------+-----------------+------------+--------------+------------+------------+------------+-----------------------+------------------+------------------+---------------+-----------+--------------+------------+--------------+-------------------+----------------+---------------------------------+------------+-----------+-------------------+--------------------+-----------+------------+--------------------+--------------------------+--------------------+------------------+-------------+---------------------+------------+------------+--------------+-------------------+---------------------+----------+\n",
            "|Summons Number|Plate ID|Registration State|Plate Type|Issue Date|Violation Code|Vehicle Body Type|Vehicle Make|Issuing Agency|Street Code1|Street Code2|Street Code3|Vehicle Expiration Date|Violation Location|Violation Precinct|Issuer Precinct|Issuer Code|Issuer Command|Issuer Squad|Violation Time|Time First Observed|Violation County|Violation In Front Of Or Opposite|House Number|Street Name|Intersecting Street| Date First Observed|Law Section|Sub Division|Violation Legal Code|Days Parking In Effect    |From Hours In Effect|To Hours In Effect|Vehicle Color|Unregistered Vehicle?|Vehicle Year|Meter Number|Feet From Curb|Violation Post Code|Violation Description|Issue_Date|\n",
            "+--------------+--------+------------------+----------+----------+--------------+-----------------+------------+--------------+------------+------------+------------+-----------------------+------------------+------------------+---------------+-----------+--------------+------------+--------------+-------------------+----------------+---------------------------------+------------+-----------+-------------------+--------------------+-----------+------------+--------------------+--------------------------+--------------------+------------------+-------------+---------------------+------------+------------+--------------+-------------------+---------------------+----------+\n",
            "|    8002531292| EPC5238|                NY|       PAS|10/01/2014|            21|             SUBN|       CHEVR|             T|       20390|       29890|       31490|   01/01/20150111 12...|              0007|                 7|              7|     345454|          T800|          A2|         0011A|               null|              NY|                                F|         133|   Essex St|               null|01/05/0001 12:00:...|        408|          d1|                null|                     Y Y Y|               1200A|             0300A|           BL|                 null|        2005|        null|             0|               A 77| 21-No Parking (st...|2014-10-01|\n",
            "|    8015318440|  5298MD|                NY|       COM|03/06/2015|            14|              VAN|       FRUEH|             T|       27790|       19550|       19570|   01/01/88888888 12...|              0025|                25|             25|     333386|          T103|           B|         0942A|               null|              NY|                                F|        1916|   Park Ave|               null|01/05/0001 12:00:...|        408|           c|                null|                     YYYYY|               0700A|             1000A|        BROWN|                 null|           0|        null|             0|                CC3|       14-No Standing|2015-03-06|\n",
            "|    7611181981| FYW2775|                NY|       PAS|07/28/2014|            46|             SUBN|       SUBAR|             T|        8130|        5430|        5580|   01/01/20160524 12...|              0072|                72|             72|     331845|          T302|           L|         1020A|               null|               K|                                F|         184|    31st St|               null|01/05/0001 12:00:...|        408|          f1|                null|                      null|                null|              null|        BLACK|                 null|        2010|        null|             0|               J 32| 46A-Double Parkin...|2014-07-28|\n",
            "|    7445908067| GWE1987|                NY|       PAS|04/13/2015|            19|             4DSD|       LEXUS|             T|       59990|       16540|       16790|   01/01/20170111 12...|               102|               102|            102|     355669|          T402|           D|         0318P|               null|               Q|                                F|      120-20|Queens Blvd|               null|01/05/0001 12:00:...|        408|          c3|                null|                     YYYYY|               0300P|             1000P|           GY|                 null|        2015|        null|             0|               01 4| 19-No Stand (bus ...|2015-04-13|\n",
            "|    7037692864|T671196C|                NY|       PAS|05/19/2015|            19|             4DSD|       CHRYS|             T|       36090|       10410|       24690|   01/01/88888888 12...|              0028|                28|             28|     341248|          T103|           X|         0410P|               null|              NY|                                F|          66| W 116th St|               null|01/05/0001 12:00:...|        408|          c3|                null|                   YYYYYYY|                null|              null|        BLACK|                 null|           0|        null|             0|               19 7| 19-No Stand (bus ...|2015-05-19|\n",
            "+--------------+--------+------------------+----------+----------+--------------+-----------------+------------+--------------+------------+------------+------------+-----------------------+------------------+------------------+---------------+-----------+--------------+------------+--------------+-------------------+----------------+---------------------------------+------------+-----------+-------------------+--------------------+-----------+------------+--------------------+--------------------------+--------------------+------------------+-------------+---------------------+------------+------------+--------------+-------------------+---------------------+----------+\n",
            "only showing top 5 rows\n",
            "\n"
          ]
        }
      ]
    },
    {
      "cell_type": "markdown",
      "source": [
        "## Querying Data"
      ],
      "metadata": {
        "id": "s7BdaOcnBiHn"
      }
    },
    {
      "cell_type": "code",
      "source": [
        "# Count the number of tickets issued by each state and store to new_df\n",
        "\n",
        "\n",
        "new_df.show()"
      ],
      "metadata": {
        "id": "-A-Lexmm_LAQ",
        "outputId": "7019bc92-2502-4f9b-bd27-1ef318ad611b",
        "colab": {
          "base_uri": "https://localhost:8080/"
        }
      },
      "execution_count": null,
      "outputs": [
        {
          "output_type": "stream",
          "name": "stdout",
          "text": [
            "+------------------+------+\n",
            "|Registration State| count|\n",
            "+------------------+------+\n",
            "|                AZ|  7560|\n",
            "|                SC|  6056|\n",
            "|                NS|   265|\n",
            "|                LA|  1015|\n",
            "|                MN|  5644|\n",
            "|                NJ|300999|\n",
            "|                DC|  1318|\n",
            "|                OR|  1657|\n",
            "|                99|  9248|\n",
            "|                VA| 20629|\n",
            "|                RI|  4346|\n",
            "|                KY|  1265|\n",
            "|                WY|   103|\n",
            "|                BC|    84|\n",
            "|                NH|  2927|\n",
            "|                MI|  5634|\n",
            "|                NV|   737|\n",
            "|                GV|   189|\n",
            "|                QB|  1947|\n",
            "|                WI|  1549|\n",
            "+------------------+------+\n",
            "only showing top 20 rows\n",
            "\n"
          ]
        }
      ]
    },
    {
      "cell_type": "code",
      "source": [
        "import time\n",
        "\n",
        "start_time = time.time()\n",
        "\n",
        "# Count which cars get the most tickets\n",
        "\n",
        "\n",
        "print(\"--- %s seconds ---\" % (time.time() - start_time))"
      ],
      "metadata": {
        "id": "cxvA2PcsAQwU",
        "outputId": "795e1b85-6533-426e-9ab5-eb054ee76725",
        "colab": {
          "base_uri": "https://localhost:8080/"
        }
      },
      "execution_count": null,
      "outputs": [
        {
          "output_type": "stream",
          "name": "stdout",
          "text": [
            "+------------+------+\n",
            "|Vehicle Make| count|\n",
            "+------------+------+\n",
            "|        FORD|442011|\n",
            "|       TOYOT|318308|\n",
            "|       HONDA|295029|\n",
            "|       CHEVR|262115|\n",
            "|       NISSA|237174|\n",
            "|       FRUEH|130966|\n",
            "|       INTER|114161|\n",
            "|       DODGE|112212|\n",
            "|       ME/BE|106056|\n",
            "|         BMW|103312|\n",
            "|         GMC|101630|\n",
            "|        JEEP| 81846|\n",
            "|       HYUND| 70557|\n",
            "|       LEXUS| 65519|\n",
            "|       ACURA| 58112|\n",
            "|       VOLKS| 57512|\n",
            "|       CHRYS| 57019|\n",
            "|       NS/OT| 52257|\n",
            "|       INFIN| 44012|\n",
            "|       ISUZU| 43888|\n",
            "+------------+------+\n",
            "only showing top 20 rows\n",
            "\n",
            "--- 14.418765783309937 seconds ---\n"
          ]
        }
      ]
    },
    {
      "cell_type": "markdown",
      "source": [
        "## SQL Queries"
      ],
      "metadata": {
        "id": "1qZqdGl-DaCL"
      }
    },
    {
      "cell_type": "code",
      "source": [
        "# Create a temporary view\n"
      ],
      "metadata": {
        "id": "1RaYZCbXDazS"
      },
      "execution_count": null,
      "outputs": []
    },
    {
      "cell_type": "code",
      "source": [
        "# Get all the tickets issued before 2014\n"
      ],
      "metadata": {
        "id": "Oe-1iDJ_Dllr",
        "outputId": "a2898f7d-fd41-4138-f28d-266994b14943",
        "colab": {
          "base_uri": "https://localhost:8080/"
        }
      },
      "execution_count": null,
      "outputs": [
        {
          "output_type": "stream",
          "name": "stdout",
          "text": [
            "+--------------+----------+------------------+----------+----------+--------------+-----------------+------------+--------------+------------+------------+------------+-----------------------+------------------+------------------+---------------+-----------+--------------+------------+--------------+-------------------+----------------+---------------------------------+------------+---------------+-------------------+--------------------+-----------+------------+--------------------+--------------------------+--------------------+------------------+-------------+---------------------+------------+------------+--------------+-------------------+---------------------+---------------------------------+-----------------+------------------------+--------+---------+---------------+------------------+------------+----+----+----+----------+\n",
            "|Summons Number|  Plate ID|Registration State|Plate Type|Issue Date|Violation Code|Vehicle Body Type|Vehicle Make|Issuing Agency|Street Code1|Street Code2|Street Code3|Vehicle Expiration Date|Violation Location|Violation Precinct|Issuer Precinct|Issuer Code|Issuer Command|Issuer Squad|Violation Time|Time First Observed|Violation County|Violation In Front Of Or Opposite|House Number|    Street Name|Intersecting Street| Date First Observed|Law Section|Sub Division|Violation Legal Code|Days Parking In Effect    |From Hours In Effect|To Hours In Effect|Vehicle Color|Unregistered Vehicle?|Vehicle Year|Meter Number|Feet From Curb|Violation Post Code|Violation Description|No Standing or Stopping Violation|Hydrant Violation|Double Parking Violation|Latitude|Longitude|Community Board|Community Council |Census Tract| BIN| BBL| NTA|Issue_Date|\n",
            "+--------------+----------+------------------+----------+----------+--------------+-----------------+------------+--------------+------------+------------+------------+-----------------------+------------------+------------------+---------------+-----------+--------------+------------+--------------+-------------------+----------------+---------------------------------+------------+---------------+-------------------+--------------------+-----------+------------+--------------------+--------------------------+--------------------+------------------+-------------+---------------------+------------+------------+--------------+-------------------+---------------------+---------------------------------+-----------------+------------------------+--------+---------+---------------+------------------+------------+----+----+----+----------+\n",
            "|    1374082533|   GKM3305|                NY|       PAS|12/12/2000|            21|             SUBN|       HONDA|             S|        6380|        9230|        9280|   01/01/20151217 12...|              0066|                66|              0|     527623|          KS12|        0000|         0751A|               null|               K|                                F|        5311|         13 AVE|               null|01/05/0001 12:00:...|        408|          D1|                null|                   YBYBYBB|                0730|              0800|        BLACK|                    0|        2012|           -|             0|               null|                 null|                             null|             null|                    null|    null|     null|           null|              null|        null|null|null|null|2000-12-12|\n",
            "|    1371439679|BLANKPLATE|                99|       999|07/07/2003|            78|             null|       CHEVR|             P|           0|           0|           0|   01/01/20150304 12...|              0026|                26|             26|     931585|          0026|        0000|         1225A|               null|              NY|                             null|        null|   W/S W 135 ST|        CORVENT AVE|01/05/0001 12:00:...|        408|          J6|                null|                   BBBBBBB|                 ALL|               ALL|          WHT|                    0|        2005|           -|             0|               null|                 null|                             null|             null|                    null|    null|     null|           null|              null|        null|null|null|null|2003-07-07|\n",
            "|    1375606645|   FSS1952|                NY|       PAS|12/17/2012|            20|             SUBN|       ME/BE|             P|       60810|       20390|       20490|   01/01/20151130 12...|               106|               106|            106|     945534|          0106|        0000|         0542P|               null|               Q|                                F|      110-00|  ROCKAWAY BLVD|               null|01/05/0001 12:00:...|        408|           D|                null|                   BBBBBBB|                 ALL|               ALL|           WT|                    0|        2012|           -|             0|               null|                 null|                             null|             null|                    null|    null|     null|           null|              null|        null|null|null|null|2012-12-17|\n",
            "|    1369308620|   GLN8777|                NY|       PAS|06/15/2013|            20|              SDN|       NISSA|             P|       14630|       37180|       37230|   01/01/20151222 12...|              0063|                63|             63|     948945|          0063|        0000|         0413P|               null|               K|                                F|        5400|          AVE U|               null|01/05/0001 12:00:...|        408|           D|                null|                   BBBBBBB|                 ALL|               ALL|        WHITE|                    0|        2011|           -|             0|               null|                 null|                             null|             null|                    null|    null|     null|           null|              null|        null|null|null|null|2013-06-15|\n",
            "|    1379833802|   65027JV|                NY|       COM|02/25/2012|            45|              P-U|        FORD|             P|       35710|       44990|       29690|   01/01/20161031 12...|              0027|                27|             27|     876713|          0027|        0000|         1155A|               null|              NY|                                F|         316|        W 97 ST|               null|01/05/0001 12:00:...|        408|          E1|                null|                   BBBBBBB|                 ALL|               ALL|        WHITE|                    0|        2007|           -|             0|               null|                 null|                             null|             null|                    null|    null|     null|           null|              null|        null|null|null|null|2012-02-25|\n",
            "|    1374742790|   GJZ4546|                NY|       PAS|12/18/2013|            21|              SDN|       TOYOT|             S|       83430|       73470|       82230|   01/01/20160209 12...|              0073|                73|              0|     515349|          KN16|        0000|         0853A|               null|               K|                                F|         375| SUMPTER STREET|               null|01/05/0001 12:00:...|        408|          D1|                null|                   YBBYBBB|               0930A|             1100A|          GRY|                    0|        2003|           -|             0|               null|                 null|                             null|             null|                    null|    null|     null|           null|              null|        null|null|null|null|2013-12-18|\n",
            "|    1360857930|    CMDZ59|                FL|       PAS|06/10/2012|            14|              SDN|       CADIL|             P|       61490|       26160|       26190|   01/01/20141031 12...|              0044|                44|             44|     916207|          0044|        0000|         0535P|               null|              BX|                                F|         651|      RIVER AVE|               null|01/05/0001 12:00:...|        408|          J6|                null|                   BBBBBBB|                0  :|              0  :|         GREY|                    0|           0|           -|             0|               null|                 null|                             null|             null|                    null|    null|     null|           null|              null|        null|null|null|null|2012-06-10|\n",
            "|    1368072010|   GHN9778|                NY|       PAS|10/04/2013|            20|             LIMO|       LINCO|             X|           0|           0|           0|   01/01/20150829 12...|              null|                 0|              1|     160481|          0001|        0000|         1003P|               null|              NY|                                O|        null|W/S OF 12TH AVE|   25FT N/B 42ND ST|01/05/0001 12:00:...|        408|          F1|                null|                   BBBBBBB|                 ALL|               ALL|        BLACK|                    0|        2003|           -|             0|               null|                 null|                             null|             null|                    null|    null|     null|           null|              null|        null|null|null|null|2013-10-04|\n",
            "|    1381080510|   GVM8647|                NY|       PAS|04/07/2000|            50|              SDN|         BMW|             P|           0|           0|           0|   01/01/20170208 12...|              null|                 0|             70|     954610|          0070|        0000|         1140P|               null|              NY|                                F|        null|    I/O EAST 22|             DIYMAS|01/05/0001 12:00:...|        408|          F1|                null|                   BBBBBBB|                 ALL|               ALL|         BLUE|                    0|        2015|           -|             0|               null|                 null|                             null|             null|                    null|    null|     null|           null|              null|        null|null|null|null|2000-04-07|\n",
            "|    1369963397|   89776JV|                NY|       COM|07/12/2013|            20|              VAN|        FORD|             P|       23190|       33970|       14810|   01/01/20160713 12...|              0006|                 6|              6|     943365|          0006|        0000|         0954A|               null|              NY|                                F|         534|      HUDSON ST|               null|01/05/0001 12:00:...|        408|           D|                null|                   YYYYYYB|               0800A|             0600P|        WHITE|                    0|        2007|           -|             0|               null|                 null|                             null|             null|                    null|    null|     null|           null|              null|        null|null|null|null|2013-07-12|\n",
            "|    1370600770|   JNF4210|                PA|       PAS|07/07/2010|            51|              VAN|        null|             P|       36870|       10810|       13510|   01/01/20140710 12...|              0032|                32|             32|     952982|          0032|        0000|         0855A|               null|              NY|                                F|         300|       W 155 ST|               null|01/05/0001 12:00:...|        408|          D4|                null|                   BBBBBBB|                 ALL|               ALL|        GREEN|                    0|           0|           -|             0|               null|                 null|                             null|             null|                    null|    null|     null|           null|              null|        null|null|null|null|2010-07-07|\n",
            "|    1377784782|   FWE4288|                NY|       PAS|11/23/2000|            40|              SDN|       JAGUA|             P|       34770|       13610|       10810|   01/01/20151221 12...|              0018|                18|             18|     948580|          0018|        0000|         0525P|               null|              NY|                                O|         226|        W 50 ST|               null|01/05/0001 12:00:...|        408|          C3|                null|                   BBBBBBB|                 ALL|               ALL|           BK|                    0|           0|           -|             6|               null|                 null|                             null|             null|                    null|    null|     null|           null|              null|        null|null|null|null|2000-11-23|\n",
            "|    1370169371|   21879MD|                NY|       COM|07/14/2013|            78|              VAN|       CHEVR|             P|       36530|       26230|       77930|   01/01/20150131 12...|              0067|                67|             67|     951217|          0067|        0000|         0410A|               null|               K|                                F|         276|        E 38 ST|               null|01/05/0001 12:00:...|        408|          C4|                null|                   BBBBBBB|                 ALL|               ALL|        WHITE|                    0|        2003|           -|             0|               null|                 null|                             null|             null|                    null|    null|     null|           null|              null|        null|null|null|null|2013-07-14|\n",
            "|    1374475373|   FHL5446|                NY|       PAS|10/20/2012|            74|              SDN|       JAGUA|             P|       26540|       18700|       51090|   01/01/20150925 12...|               105|               105|            105|     899724|          0105|        0000|         1255P|               null|               Q|                                F|       94-32|         214 PL|               null|01/05/0001 12:00:...|        408|          F7|                null|                   BBBBBBB|                 ALL|               ALL|          BLU|                    0|        2004|           -|             0|               null|                 null|                             null|             null|                    null|    null|     null|           null|              null|        null|null|null|null|2012-10-20|\n",
            "|    1362661200|   FTZ2210|                NY|       PAS|10/16/2010|            46|              SDN|       TOYOT|             P|           0|       40404|       40404|   01/01/20140930 12...|              null|                 0|             45|     402554|          0045|        0000|         0250P|               null|            null|                                F|        2727|      LAFAYETTE|               null|01/05/0001 12:00:...|        408|          E2|                null|                   BBBBBBB|                0  :|              0  :|           GY|                    0|        2014|           -|             0|               null|                 null|                             null|             null|                    null|    null|     null|           null|              null|        null|null|null|null|2010-10-16|\n",
            "|    1359644660|   GEW2930|                NY|       PAS|07/14/2012|            14|              SDN|       TOYOT|             P|       55265|       26300|       23900|   01/01/20150319 12...|               120|               120|            120|     952951|          0120|        0000|         0930A|               null|               R|                                O|          32|       WHITE PL|               null|01/05/0001 12:00:...|        408|           D|                null|                   BBBBBBB|                0  :|              0  :|         GRAY|                    0|        1997|           -|             0|               null|                 null|                             null|             null|                    null|    null|     null|           null|              null|        null|null|null|null|2012-07-14|\n",
            "|    1375408460|   75436MD|                NY|       COM|04/27/2013|            78|             DELV|         GMC|             P|       23020|       21290|       21520|   01/01/20151231 12...|               113|               113|            113|     946250|          0113|        0000|         1107P|               null|               Q|                                O|      120-03|     145 STREET|               null|01/05/0001 12:00:...|        408|          K6|                null|                   BBBBBBB|                 ALL|               ALL|          WHT|                    0|        2007|           -|             0|               null|                 null|                             null|             null|                    null|    null|     null|           null|              null|        null|null|null|null|2013-04-27|\n",
            "|    1376229432|   GRA4866|                NY|       PAS|11/25/2012|            60|              SDN|       TOYOT|             P|       61330|       54100|       52130|   01/01/20160622 12...|              0083|                83|             83|     935480|          0083|        0000|         0145A|               null|               K|                                F|         338|      MOFFAT ST|               null|01/05/0001 12:00:...|        408|          M2|                null|                   BBBBBBB|                 ALL|               ALL|          TAN|                    0|        1998|           -|             0|               null|                 null|                             null|             null|                    null|    null|     null|           null|              null|        null|null|null|null|2012-11-25|\n",
            "|    1369440753|   81217MA|                NY|       COM|07/10/2013|            20|             null|       TOYOT|             P|       10410|       17610|       17630|   01/01/20150430 12...|              0014|                14|             14|     949000|          0014|        0000|         0439P|               null|              NY|                                F|         303|        5TH AVE|               null|01/05/0001 12:00:...|        408|           D|                null|                   YYYYYBB|               0800A|             0600P|         GRAY|                    0|        2013|           -|             0|               null|                 null|                             null|             null|                    null|    null|     null|           null|              null|        null|null|null|null|2013-07-10|\n",
            "|    1383307982|   EAC5367|                NY|       PAS|07/07/2013|            71|             SUBN|        FORD|             P|       17450|       10010|       11815|   01/01/20160421 12...|              0013|                13|             13|     941627|          0013|        0000|         0253A|               null|            null|                                O|         423|        E 23 ST|               null|01/05/0001 12:00:...|        408|          J6|                null|                   BBBBBBB|                 ALL|               ALL|         GRAY|                    0|        2002|           -|             0|               null|                 null|                             null|             null|                    null|    null|     null|           null|              null|        null|null|null|null|2013-07-07|\n",
            "+--------------+----------+------------------+----------+----------+--------------+-----------------+------------+--------------+------------+------------+------------+-----------------------+------------------+------------------+---------------+-----------+--------------+------------+--------------+-------------------+----------------+---------------------------------+------------+---------------+-------------------+--------------------+-----------+------------+--------------------+--------------------------+--------------------+------------------+-------------+---------------------+------------+------------+--------------+-------------------+---------------------+---------------------------------+-----------------+------------------------+--------+---------+---------------+------------------+------------+----+----+----+----------+\n",
            "only showing top 20 rows\n",
            "\n"
          ]
        }
      ]
    },
    {
      "cell_type": "markdown",
      "source": [
        "## Data Visualization"
      ],
      "metadata": {
        "id": "HwhqTl_oBtcZ"
      }
    },
    {
      "cell_type": "code",
      "source": [
        "# Visualize the number of tickets issued by each state from new_df\n"
      ],
      "metadata": {
        "id": "zZKSg0wdLaPK",
        "outputId": "08cbeb6c-03ce-49ad-a215-4c26f3a09020",
        "colab": {
          "base_uri": "https://localhost:8080/",
          "height": 583
        }
      },
      "execution_count": null,
      "outputs": [
        {
          "output_type": "execute_result",
          "data": {
            "text/plain": [
              "<Axes: xlabel='Registration State'>"
            ]
          },
          "metadata": {},
          "execution_count": 51
        },
        {
          "output_type": "display_data",
          "data": {
            "text/plain": [
              "<Figure size 1200x600 with 1 Axes>"
            ],
            "image/png": "[encoded data removed]"
          },
          "metadata": {}
        }
      ]
    },
    {
      "cell_type": "code",
      "source": [],
      "metadata": {
        "id": "o3gnB1kyLiBq"
      },
      "execution_count": null,
      "outputs": []
    }
  ]
}
